{
 "cells": [
  {
   "cell_type": "code",
   "execution_count": 2,
   "id": "f38134c5-28c4-44b9-8a68-65c7c8554f81",
   "metadata": {},
   "outputs": [
    {
     "name": "stdout",
     "output_type": "stream",
     "text": [
      "     User User Category  Medicine Name    Category  Stock  Restock Frequency  \\\n",
      "0  User_1      Hospital    Paracetamol  Painkiller    199                 27   \n",
      "1  User_1      Hospital      Ibuprofen  Painkiller    463                 12   \n",
      "2  User_1      Hospital        Aspirin  Painkiller    493                 27   \n",
      "3  User_1      Hospital       Naproxen  Painkiller    363                 28   \n",
      "4  User_1      Hospital     Ketoprofen  Painkiller    394                 23   \n",
      "5  User_1      Hospital    Amoxicillin  Antibiotic    219                 22   \n",
      "6  User_1      Hospital   Azithromycin  Antibiotic    495                 21   \n",
      "7  User_1      Hospital  Ciprofloxacin  Antibiotic    413                 29   \n",
      "8  User_1      Hospital    Doxycycline  Antibiotic    180                 11   \n",
      "9  User_1      Hospital    Clindamycin  Antibiotic     70                 15   \n",
      "\n",
      "   Supplier Reliability  \n",
      "0              0.990973  \n",
      "1              0.700234  \n",
      "2              0.885244  \n",
      "3              0.702120  \n",
      "4              0.857432  \n",
      "5              0.769831  \n",
      "6              0.885516  \n",
      "7              0.994969  \n",
      "8              0.882263  \n",
      "9              0.719515  \n"
     ]
    }
   ],
   "source": [
    "import pandas as pd\n",
    "import numpy as np\n",
    "\n",
    "# 1️⃣ Data Obat (50 Nama Obat dengan Kategori Tetap)\n",
    "medicine_data = [\n",
    "    (\"Paracetamol\", \"Painkiller\"), (\"Ibuprofen\", \"Painkiller\"), (\"Aspirin\", \"Painkiller\"),\n",
    "    (\"Naproxen\", \"Painkiller\"), (\"Ketoprofen\", \"Painkiller\"),\n",
    "    (\"Amoxicillin\", \"Antibiotic\"), (\"Azithromycin\", \"Antibiotic\"), (\"Ciprofloxacin\", \"Antibiotic\"),\n",
    "    (\"Doxycycline\", \"Antibiotic\"), (\"Clindamycin\", \"Antibiotic\"),\n",
    "    (\"Oseltamivir\", \"Antiviral\"), (\"Acyclovir\", \"Antiviral\"), (\"Remdesivir\", \"Antiviral\"),\n",
    "    (\"Favipiravir\", \"Antiviral\"), (\"Zanamivir\", \"Antiviral\"),\n",
    "    (\"Metformin\", \"Diabetes\"), (\"Insulin\", \"Diabetes\"), (\"Glipizide\", \"Diabetes\"),\n",
    "    (\"Sitagliptin\", \"Diabetes\"), (\"Pioglitazone\", \"Diabetes\"),\n",
    "    (\"Atorvastatin\", \"Cardiovascular\"), (\"Simvastatin\", \"Cardiovascular\"),\n",
    "    (\"Lisinopril\", \"Cardiovascular\"), (\"Amlodipine\", \"Cardiovascular\"),\n",
    "    (\"Losartan\", \"Cardiovascular\"),\n",
    "    (\"Furosemide\", \"Cardiovascular\"), (\"Hydrochlorothiazide\", \"Cardiovascular\"),\n",
    "    (\"Spironolactone\", \"Cardiovascular\"), (\"Warfarin\", \"Cardiovascular\"),\n",
    "    (\"Clopidogrel\", \"Cardiovascular\"),\n",
    "    (\"Dexamethasone\", \"Immunosuppressant\"), (\"Prednisone\", \"Immunosuppressant\"),\n",
    "    (\"Hydrocortisone\", \"Immunosuppressant\"), (\"Methotrexate\", \"Immunosuppressant\"),\n",
    "    (\"Mycophenolate\", \"Immunosuppressant\"),\n",
    "    (\"Levothyroxine\", \"Endocrine\"), (\"Propylthiouracil\", \"Endocrine\"),\n",
    "    (\"Methimazole\", \"Endocrine\"),\n",
    "    (\"Fluoxetine\", \"Psychiatric\"), (\"Sertraline\", \"Psychiatric\"),\n",
    "    (\"Diazepam\", \"Psychiatric\"), (\"Lorazepam\", \"Psychiatric\"),\n",
    "    (\"Alprazolam\", \"Psychiatric\"), (\"Haloperidol\", \"Psychiatric\"),\n",
    "    (\"Risperidone\", \"Psychiatric\"),\n",
    "    (\"Omeprazole\", \"Gastrointestinal\"), (\"Ranitidine\", \"Gastrointestinal\"),\n",
    "    (\"Pantoprazole\", \"Gastrointestinal\"), (\"Esomeprazole\", \"Gastrointestinal\"),\n",
    "    (\"Lansoprazole\", \"Gastrointestinal\")\n",
    "]\n",
    "\n",
    "# 2️⃣ Data User (20 User dengan Kategori \"Hospital\" atau \"Apotics\")\n",
    "np.random.seed(42)  # Untuk hasil random yang konsisten\n",
    "user_names = [f\"User_{i+1}\" for i in range(20)]\n",
    "user_categories = np.random.choice([\"Hospital\", \"Apotics\"], size=20)  # Random assign Hospital or Apotics\n",
    "\n",
    "df_users = pd.DataFrame({\n",
    "    \"User\": user_names,\n",
    "    \"User Category\": user_categories\n",
    "})\n",
    "\n",
    "# 3️⃣ Data Stok Obat per Pengguna (Setiap User Memiliki Semua Obat)\n",
    "data = []\n",
    "\n",
    "for user, user_category in zip(user_names, user_categories):\n",
    "    for med_name, med_category in medicine_data:\n",
    "        stock = np.random.randint(50, 500)  # Stok antara 50 - 500 unit\n",
    "        restock_freq = np.random.randint(7, 30)  # Frekuensi restock 7-30 hari\n",
    "        supplier_reliability = np.random.uniform(0.7, 1.0)  # Keandalan pemasok (0.7-1.0)\n",
    "        data.append([user, user_category, med_name, med_category, stock, restock_freq, supplier_reliability])\n",
    "\n",
    "# 4️⃣ DataFrame Final\n",
    "df_final = pd.DataFrame(data, columns=[\n",
    "    \"User\", \"User Category\", \"Medicine Name\", \"Category\", \"Stock\", \"Restock Frequency\", \"Supplier Reliability\"\n",
    "])\n",
    "\n",
    "# Tampilkan beberapa data awal\n",
    "print(df_final.head(10))  # Data Final Terintegrasi\n"
   ]
  },
  {
   "cell_type": "code",
   "execution_count": 3,
   "id": "950ee974-591a-4bcc-ac5f-1782511bafb1",
   "metadata": {},
   "outputs": [],
   "source": [
    "df_final.to_csv(\"medicine_stock_data.csv\", index=False)"
   ]
  }
 ],
 "metadata": {
  "kernelspec": {
   "display_name": "Python 3 (ipykernel)",
   "language": "python",
   "name": "python3"
  },
  "language_info": {
   "codemirror_mode": {
    "name": "ipython",
    "version": 3
   },
   "file_extension": ".py",
   "mimetype": "text/x-python",
   "name": "python",
   "nbconvert_exporter": "python",
   "pygments_lexer": "ipython3",
   "version": "3.12.3"
  }
 },
 "nbformat": 4,
 "nbformat_minor": 5
}
