{
 "cells": [
  {
   "cell_type": "code",
   "execution_count": 5,
   "id": "7da0b75e-34fe-4889-a1a3-026606429a4a",
   "metadata": {},
   "outputs": [
    {
     "name": "stdout",
     "output_type": "stream",
     "text": [
      "✅ Model berhasil disimpan sebagai 'xgb_model.json'\n",
      "MAE: 1.90 days\n"
     ]
    }
   ],
   "source": [
    "import pandas as pd\n",
    "import numpy as np\n",
    "import xgboost as xgb\n",
    "from sklearn.model_selection import train_test_split\n",
    "from sklearn.preprocessing import LabelEncoder\n",
    "from sklearn.metrics import mean_absolute_error, mean_squared_error\n",
    "import joblib  # Untuk menyimpan LabelEncoders\n",
    "\n",
    "medicine = pd.read_csv(\"medicine.csv\")\n",
    "\n",
    "# feature engineering\n",
    "medicine[\"record_timestamp\"] = pd.to_datetime(medicine[\"record_timestamp\"])\n",
    "medicine[\"stockout_timestamp\"] = pd.to_datetime(medicine[\"stockout_timestamp\"])\n",
    "\n",
    "medicine[\"stockout_days\"] = (medicine[\"stockout_timestamp\"] - medicine[\"record_timestamp\"]).dt.days\n",
    "\n",
    "medicine = medicine[medicine[\"stockout_days\"] > 0].dropna(subset=[\"stockout_days\"])\n",
    "\n",
    "categorical_features = [\"user_category\", \"zone\", \"medicine_name\", \"category\", \"corr_disease_1\",  \"corr_disease_2\",  \"corr_disease_3\"]\n",
    "for col in categorical_features:\n",
    "    medicine[col] = LabelEncoder().fit_transform(medicine[col])\n",
    "\n",
    "medicine[\"stock_per_visitor\"] = medicine[\"stock\"] / (medicine[\"avg_visitor_weekly\"] + 1)  # Hindari divisi nol\n",
    "\n",
    "features = [\n",
    "    \"user_category\", \"zone\", \"medicine_name\", \"category\", \"stock\",\n",
    "    \"restock_frequency\", \"supplier_reliability\", \"disease_score_1\",\n",
    "    \"disease_score_2\", \"disease_score_3\", \"corr_disease_1\", \"corr_disease_2\",\n",
    "    \"corr_disease_3\", \"avg_price\", \"avg_visitor_weekly\", \"price\", \"stock_per_visitor\"\n",
    "]\n",
    "\n",
    "X = medicine[features]\n",
    "y = medicine[\"stockout_days\"]\n",
    "\n",
    "X_train, X_test, y_train, y_test = train_test_split(X, y, test_size=0.2, random_state=42)\n",
    "\n",
    "model = xgb.XGBRegressor(\n",
    "    n_estimators=300,\n",
    "    learning_rate=0.05,\n",
    "    max_depth=8,\n",
    "    subsample=0.8,  \n",
    "    colsample_bytree=0.8, \n",
    "    random_state=42\n",
    ")\n",
    "\n",
    "# Training model\n",
    "model.fit(X_train, y_train)\n",
    "\n",
    "# Prediksi\n",
    "y_pred = model.predict(X_test)\n",
    "\n",
    "# Evaluasi model\n",
    "mae = mean_absolute_error(y_test, y_pred)\n",
    "rmse = np.sqrt(mean_squared_error(y_test, y_pred))\n",
    "\n",
    "model.save_model(\"xgb_model.json\")\n",
    "print(\"✅ Model berhasil disimpan sebagai 'xgb_model.json'\")\n",
    "\n",
    "print(f\"MAE: {mae:.2f} days\")"
   ]
  },
  {
   "cell_type": "code",
   "execution_count": null,
   "id": "846c13de-7488-4251-92cc-b94487397b93",
   "metadata": {},
   "outputs": [],
   "source": []
  }
 ],
 "metadata": {
  "kernelspec": {
   "display_name": "Python 3 (ipykernel)",
   "language": "python",
   "name": "python3"
  },
  "language_info": {
   "codemirror_mode": {
    "name": "ipython",
    "version": 3
   },
   "file_extension": ".py",
   "mimetype": "text/x-python",
   "name": "python",
   "nbconvert_exporter": "python",
   "pygments_lexer": "ipython3",
   "version": "3.12.3"
  }
 },
 "nbformat": 4,
 "nbformat_minor": 5
}
